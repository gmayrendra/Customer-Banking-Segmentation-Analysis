{
 "cells": [
  {
   "attachments": {},
   "cell_type": "markdown",
   "metadata": {},
   "source": [
    "## Import Libraries"
   ]
  },
  {
   "cell_type": "code",
   "execution_count": 59,
   "metadata": {},
   "outputs": [],
   "source": [
    "import pandas as pd\n",
    "import numpy as np\n",
    "import json\n",
    "import joblib\n",
    "from sklearn.decomposition import PCA"
   ]
  },
  {
   "attachments": {},
   "cell_type": "markdown",
   "metadata": {},
   "source": [
    "### Import Models"
   ]
  },
  {
   "cell_type": "code",
   "execution_count": 60,
   "metadata": {},
   "outputs": [],
   "source": [
    "with open('model_k_means.pkl','rb') as file_1:\n",
    "    kmeans = joblib.load(file_1)\n",
    "\n",
    "with open('model_scaler.pkl', 'rb') as file_2:\n",
    "     scaler = joblib.load(file_2)\n",
    "\n",
    "with open('list_num_col.txt', 'r') as file_3:\n",
    "     numcol = json.load(file_3)\n",
    "\n",
    "with open('list_pca9_col.pkl', 'rb') as file_5:\n",
    "     pca = joblib.load(file_5)"
   ]
  },
  {
   "attachments": {},
   "cell_type": "markdown",
   "metadata": {},
   "source": [
    "### Creating New Dataframe"
   ]
  },
  {
   "cell_type": "code",
   "execution_count": 61,
   "metadata": {},
   "outputs": [
    {
     "data": {
      "text/html": [
       "<div>\n",
       "<style scoped>\n",
       "    .dataframe tbody tr th:only-of-type {\n",
       "        vertical-align: middle;\n",
       "    }\n",
       "\n",
       "    .dataframe tbody tr th {\n",
       "        vertical-align: top;\n",
       "    }\n",
       "\n",
       "    .dataframe thead th {\n",
       "        text-align: right;\n",
       "    }\n",
       "</style>\n",
       "<table border=\"1\" class=\"dataframe\">\n",
       "  <thead>\n",
       "    <tr style=\"text-align: right;\">\n",
       "      <th></th>\n",
       "      <th>BALANCE</th>\n",
       "      <th>BALANCE_FREQUENCY</th>\n",
       "      <th>PURCHASES</th>\n",
       "      <th>ONEOFF_PURCHASES</th>\n",
       "      <th>INSTALLMENTS_PURCHASES</th>\n",
       "      <th>CASH_ADVANCE</th>\n",
       "      <th>PURCHASES_FREQUENCY</th>\n",
       "      <th>ONEOFF_PURCHASES_FREQUENCY</th>\n",
       "      <th>PURCHASES_INSTALLMENTS_FREQUENCY</th>\n",
       "      <th>CASH_ADVANCE_FREQUENCY</th>\n",
       "      <th>CASH_ADVANCE_TRX</th>\n",
       "      <th>PURCHASES_TRX</th>\n",
       "      <th>CREDIT_LIMIT</th>\n",
       "      <th>PAYMENTS</th>\n",
       "      <th>MINIMUM_PAYMENTS</th>\n",
       "      <th>PRC_FULL_PAYMENT</th>\n",
       "      <th>TENURE</th>\n",
       "    </tr>\n",
       "  </thead>\n",
       "  <tbody>\n",
       "    <tr>\n",
       "      <th>0</th>\n",
       "      <td>943.584041</td>\n",
       "      <td>1.000</td>\n",
       "      <td>1450.00</td>\n",
       "      <td>585.0</td>\n",
       "      <td>133.76</td>\n",
       "      <td>1259.571764</td>\n",
       "      <td>0.454545</td>\n",
       "      <td>0.727273</td>\n",
       "      <td>0.000000</td>\n",
       "      <td>0.545455</td>\n",
       "      <td>9</td>\n",
       "      <td>0</td>\n",
       "      <td>1500.0</td>\n",
       "      <td>258.032630</td>\n",
       "      <td>151.696433</td>\n",
       "      <td>0.090909</td>\n",
       "      <td>8</td>\n",
       "    </tr>\n",
       "    <tr>\n",
       "      <th>1</th>\n",
       "      <td>461.455720</td>\n",
       "      <td>1.000</td>\n",
       "      <td>1200.00</td>\n",
       "      <td>0.0</td>\n",
       "      <td>0.00</td>\n",
       "      <td>0.000000</td>\n",
       "      <td>0.909091</td>\n",
       "      <td>0.125000</td>\n",
       "      <td>0.000000</td>\n",
       "      <td>0.545455</td>\n",
       "      <td>7</td>\n",
       "      <td>0</td>\n",
       "      <td>4150.0</td>\n",
       "      <td>4372.148648</td>\n",
       "      <td>241.645387</td>\n",
       "      <td>0.090909</td>\n",
       "      <td>9</td>\n",
       "    </tr>\n",
       "    <tr>\n",
       "      <th>2</th>\n",
       "      <td>1053.594730</td>\n",
       "      <td>0.375</td>\n",
       "      <td>560.98</td>\n",
       "      <td>226.9</td>\n",
       "      <td>0.00</td>\n",
       "      <td>4359.325750</td>\n",
       "      <td>0.125000</td>\n",
       "      <td>0.125000</td>\n",
       "      <td>0.818182</td>\n",
       "      <td>0.000000</td>\n",
       "      <td>9</td>\n",
       "      <td>20</td>\n",
       "      <td>6000.0</td>\n",
       "      <td>3056.424974</td>\n",
       "      <td>910.707525</td>\n",
       "      <td>0.000000</td>\n",
       "      <td>11</td>\n",
       "    </tr>\n",
       "  </tbody>\n",
       "</table>\n",
       "</div>"
      ],
      "text/plain": [
       "       BALANCE  BALANCE_FREQUENCY  PURCHASES  ONEOFF_PURCHASES  \\\n",
       "0   943.584041              1.000    1450.00             585.0   \n",
       "1   461.455720              1.000    1200.00               0.0   \n",
       "2  1053.594730              0.375     560.98             226.9   \n",
       "\n",
       "   INSTALLMENTS_PURCHASES  CASH_ADVANCE  PURCHASES_FREQUENCY  \\\n",
       "0                  133.76   1259.571764             0.454545   \n",
       "1                    0.00      0.000000             0.909091   \n",
       "2                    0.00   4359.325750             0.125000   \n",
       "\n",
       "   ONEOFF_PURCHASES_FREQUENCY  PURCHASES_INSTALLMENTS_FREQUENCY  \\\n",
       "0                    0.727273                          0.000000   \n",
       "1                    0.125000                          0.000000   \n",
       "2                    0.125000                          0.818182   \n",
       "\n",
       "   CASH_ADVANCE_FREQUENCY  CASH_ADVANCE_TRX  PURCHASES_TRX  CREDIT_LIMIT  \\\n",
       "0                0.545455                 9              0        1500.0   \n",
       "1                0.545455                 7              0        4150.0   \n",
       "2                0.000000                 9             20        6000.0   \n",
       "\n",
       "      PAYMENTS  MINIMUM_PAYMENTS  PRC_FULL_PAYMENT  TENURE  \n",
       "0   258.032630        151.696433          0.090909       8  \n",
       "1  4372.148648        241.645387          0.090909       9  \n",
       "2  3056.424974        910.707525          0.000000      11  "
      ]
     },
     "execution_count": 61,
     "metadata": {},
     "output_type": "execute_result"
    }
   ],
   "source": [
    "data_inf = pd.DataFrame({\n",
    "    'BALANCE': [943.584041,  461.45572, 1053.59473],\n",
    "    'BALANCE_FREQUENCY': [1.000000, 1.000000, 0.375000],\n",
    "    'PURCHASES': [1450.00, 1200.00, 560.98],\n",
    "    'ONEOFF_PURCHASES': [585.00, 0.00, 226.90],\n",
    "    'INSTALLMENTS_PURCHASES': [133.76, 0.00, 0.00],\n",
    "    'CASH_ADVANCE' : [1259.571764, 0.000000, 4359.325750],\n",
    "    'PURCHASES_FREQUENCY' : [0.454545, 0.909091, 0.125000],\n",
    "    'ONEOFF_PURCHASES_FREQUENCY': [0.727273, 0.125000, 0.125000],\n",
    "    'PURCHASES_INSTALLMENTS_FREQUENCY': [0.000000, 0.000000, 0.818182],\n",
    "    'CASH_ADVANCE_FREQUENCY': [0.545455, 0.545455, 0.000000\t],\n",
    "    'CASH_ADVANCE_TRX': [9, 7, 9],\n",
    "    'PURCHASES_TRX': [0, 0, 20],\n",
    "    'CREDIT_LIMIT': [1500.0, 4150.0, 6000.0],\n",
    "    'PAYMENTS': [258.032630, 4372.148648, 3056.424974],\n",
    "    'MINIMUM_PAYMENTS': [151.696433, 241.645387, 910.707525],\n",
    "    'PRC_FULL_PAYMENT': [0.090909, 0.090909, 0.000000],\n",
    "    'TENURE': [8, 9, 11]\n",
    "\n",
    "})\n",
    "data_inf"
   ]
  },
  {
   "attachments": {},
   "cell_type": "markdown",
   "metadata": {},
   "source": [
    "### Scaling Data"
   ]
  },
  {
   "cell_type": "code",
   "execution_count": 62,
   "metadata": {},
   "outputs": [
    {
     "data": {
      "text/plain": [
       "array([[-0.31157956,  0.50682837,  0.1894855 , -0.00933212, -0.30954087,\n",
       "         0.1262648 , -0.10294979,  1.74396955, -0.92876018,  2.04112171,\n",
       "         0.87400279, -0.6048913 , -0.81997831, -0.50980931, -0.3047759 ,\n",
       "        -0.24056163, -2.66644606],\n",
       "       [-0.54039046,  0.50682837,  0.07795152, -0.35550441, -0.45176029,\n",
       "        -0.45717161,  1.03478746, -0.26885946, -0.92876018,  2.04112171,\n",
       "         0.56986701, -0.6048913 , -0.10151518,  0.86305183, -0.26577577,\n",
       "        -0.24056163, -1.91140203],\n",
       "       [-0.25937013, -2.51679628, -0.20713825, -0.2212369 , -0.45176029,\n",
       "         1.56207765, -0.92780717, -0.26885946,  1.12609159, -0.67952262,\n",
       "         0.87400279,  0.21242446,  0.40005343,  0.42400103,  0.02431666,\n",
       "        -0.5439301 , -0.40131395]])"
      ]
     },
     "execution_count": 62,
     "metadata": {},
     "output_type": "execute_result"
    }
   ],
   "source": [
    "num_col = ['BALANCE', 'BALANCE_FREQUENCY', 'PURCHASES', 'ONEOFF_PURCHASES', 'INSTALLMENTS_PURCHASES', 'CASH_ADVANCE', 'PURCHASES_FREQUENCY','ONEOFF_PURCHASES_FREQUENCY', 'PURCHASES_INSTALLMENTS_FREQUENCY','CASH_ADVANCE_FREQUENCY', 'CASH_ADVANCE_TRX', 'PURCHASES_TRX','CREDIT_LIMIT', 'PAYMENTS', 'MINIMUM_PAYMENTS', 'PRC_FULL_PAYMENT','TENURE']\n",
    "num_scale = scaler.transform(data_inf[num_col])\n",
    "num_scale"
   ]
  },
  {
   "attachments": {},
   "cell_type": "markdown",
   "metadata": {},
   "source": [
    "### PCA "
   ]
  },
  {
   "cell_type": "code",
   "execution_count": 63,
   "metadata": {},
   "outputs": [
    {
     "name": "stderr",
     "output_type": "stream",
     "text": [
      "/opt/anaconda3/lib/python3.9/site-packages/sklearn/base.py:420: UserWarning: X does not have valid feature names, but PCA was fitted with feature names\n",
      "  warnings.warn(\n",
      "/opt/anaconda3/lib/python3.9/site-packages/sklearn/base.py:420: UserWarning: X does not have valid feature names, but KMeans was fitted with feature names\n",
      "  warnings.warn(\n"
     ]
    }
   ],
   "source": [
    "pcax = pca.transform(num_scale)\n",
    "predictions = kmeans.predict(pcax)\n",
    "data_inf['Clustering'] = predictions"
   ]
  },
  {
   "attachments": {},
   "cell_type": "markdown",
   "metadata": {},
   "source": [
    "### Prediction Result"
   ]
  },
  {
   "cell_type": "code",
   "execution_count": 64,
   "metadata": {},
   "outputs": [
    {
     "data": {
      "text/html": [
       "<div>\n",
       "<style scoped>\n",
       "    .dataframe tbody tr th:only-of-type {\n",
       "        vertical-align: middle;\n",
       "    }\n",
       "\n",
       "    .dataframe tbody tr th {\n",
       "        vertical-align: top;\n",
       "    }\n",
       "\n",
       "    .dataframe thead th {\n",
       "        text-align: right;\n",
       "    }\n",
       "</style>\n",
       "<table border=\"1\" class=\"dataframe\">\n",
       "  <thead>\n",
       "    <tr style=\"text-align: right;\">\n",
       "      <th></th>\n",
       "      <th>BALANCE</th>\n",
       "      <th>BALANCE_FREQUENCY</th>\n",
       "      <th>PURCHASES</th>\n",
       "      <th>ONEOFF_PURCHASES</th>\n",
       "      <th>INSTALLMENTS_PURCHASES</th>\n",
       "      <th>CASH_ADVANCE</th>\n",
       "      <th>PURCHASES_FREQUENCY</th>\n",
       "      <th>ONEOFF_PURCHASES_FREQUENCY</th>\n",
       "      <th>PURCHASES_INSTALLMENTS_FREQUENCY</th>\n",
       "      <th>CASH_ADVANCE_FREQUENCY</th>\n",
       "      <th>CASH_ADVANCE_TRX</th>\n",
       "      <th>PURCHASES_TRX</th>\n",
       "      <th>CREDIT_LIMIT</th>\n",
       "      <th>PAYMENTS</th>\n",
       "      <th>MINIMUM_PAYMENTS</th>\n",
       "      <th>PRC_FULL_PAYMENT</th>\n",
       "      <th>TENURE</th>\n",
       "      <th>Clustering</th>\n",
       "    </tr>\n",
       "  </thead>\n",
       "  <tbody>\n",
       "    <tr>\n",
       "      <th>0</th>\n",
       "      <td>943.584041</td>\n",
       "      <td>1.000</td>\n",
       "      <td>1450.00</td>\n",
       "      <td>585.0</td>\n",
       "      <td>133.76</td>\n",
       "      <td>1259.571764</td>\n",
       "      <td>0.454545</td>\n",
       "      <td>0.727273</td>\n",
       "      <td>0.000000</td>\n",
       "      <td>0.545455</td>\n",
       "      <td>9</td>\n",
       "      <td>0</td>\n",
       "      <td>1500.0</td>\n",
       "      <td>258.032630</td>\n",
       "      <td>151.696433</td>\n",
       "      <td>0.090909</td>\n",
       "      <td>8</td>\n",
       "      <td>0</td>\n",
       "    </tr>\n",
       "    <tr>\n",
       "      <th>1</th>\n",
       "      <td>461.455720</td>\n",
       "      <td>1.000</td>\n",
       "      <td>1200.00</td>\n",
       "      <td>0.0</td>\n",
       "      <td>0.00</td>\n",
       "      <td>0.000000</td>\n",
       "      <td>0.909091</td>\n",
       "      <td>0.125000</td>\n",
       "      <td>0.000000</td>\n",
       "      <td>0.545455</td>\n",
       "      <td>7</td>\n",
       "      <td>0</td>\n",
       "      <td>4150.0</td>\n",
       "      <td>4372.148648</td>\n",
       "      <td>241.645387</td>\n",
       "      <td>0.090909</td>\n",
       "      <td>9</td>\n",
       "      <td>0</td>\n",
       "    </tr>\n",
       "    <tr>\n",
       "      <th>2</th>\n",
       "      <td>1053.594730</td>\n",
       "      <td>0.375</td>\n",
       "      <td>560.98</td>\n",
       "      <td>226.9</td>\n",
       "      <td>0.00</td>\n",
       "      <td>4359.325750</td>\n",
       "      <td>0.125000</td>\n",
       "      <td>0.125000</td>\n",
       "      <td>0.818182</td>\n",
       "      <td>0.000000</td>\n",
       "      <td>9</td>\n",
       "      <td>20</td>\n",
       "      <td>6000.0</td>\n",
       "      <td>3056.424974</td>\n",
       "      <td>910.707525</td>\n",
       "      <td>0.000000</td>\n",
       "      <td>11</td>\n",
       "      <td>0</td>\n",
       "    </tr>\n",
       "  </tbody>\n",
       "</table>\n",
       "</div>"
      ],
      "text/plain": [
       "       BALANCE  BALANCE_FREQUENCY  PURCHASES  ONEOFF_PURCHASES  \\\n",
       "0   943.584041              1.000    1450.00             585.0   \n",
       "1   461.455720              1.000    1200.00               0.0   \n",
       "2  1053.594730              0.375     560.98             226.9   \n",
       "\n",
       "   INSTALLMENTS_PURCHASES  CASH_ADVANCE  PURCHASES_FREQUENCY  \\\n",
       "0                  133.76   1259.571764             0.454545   \n",
       "1                    0.00      0.000000             0.909091   \n",
       "2                    0.00   4359.325750             0.125000   \n",
       "\n",
       "   ONEOFF_PURCHASES_FREQUENCY  PURCHASES_INSTALLMENTS_FREQUENCY  \\\n",
       "0                    0.727273                          0.000000   \n",
       "1                    0.125000                          0.000000   \n",
       "2                    0.125000                          0.818182   \n",
       "\n",
       "   CASH_ADVANCE_FREQUENCY  CASH_ADVANCE_TRX  PURCHASES_TRX  CREDIT_LIMIT  \\\n",
       "0                0.545455                 9              0        1500.0   \n",
       "1                0.545455                 7              0        4150.0   \n",
       "2                0.000000                 9             20        6000.0   \n",
       "\n",
       "      PAYMENTS  MINIMUM_PAYMENTS  PRC_FULL_PAYMENT  TENURE  Clustering  \n",
       "0   258.032630        151.696433          0.090909       8           0  \n",
       "1  4372.148648        241.645387          0.090909       9           0  \n",
       "2  3056.424974        910.707525          0.000000      11           0  "
      ]
     },
     "execution_count": 64,
     "metadata": {},
     "output_type": "execute_result"
    }
   ],
   "source": [
    "data_inf"
   ]
  },
  {
   "attachments": {},
   "cell_type": "markdown",
   "metadata": {},
   "source": [
    "`from new dataframe with random value, we can predict these customer are belong to cluster 0`"
   ]
  }
 ],
 "metadata": {
  "kernelspec": {
   "display_name": "base",
   "language": "python",
   "name": "python3"
  },
  "language_info": {
   "codemirror_mode": {
    "name": "ipython",
    "version": 3
   },
   "file_extension": ".py",
   "mimetype": "text/x-python",
   "name": "python",
   "nbconvert_exporter": "python",
   "pygments_lexer": "ipython3",
   "version": "3.9.13"
  },
  "orig_nbformat": 4
 },
 "nbformat": 4,
 "nbformat_minor": 2
}
